{
 "cells": [
  {
   "cell_type": "markdown",
   "id": "94ed45ea",
   "metadata": {},
   "source": [
    "# Predicting medical expenses using linear regression"
   ]
  },
  {
   "cell_type": "code",
   "execution_count": 2,
   "id": "334a250a",
   "metadata": {},
   "outputs": [
    {
     "data": {
      "text/html": [
       "<table>\n",
       "<thead><tr><th scope=col>age</th><th scope=col>sex</th><th scope=col>bmi</th><th scope=col>children</th><th scope=col>smoker</th><th scope=col>region</th><th scope=col>charges</th></tr></thead>\n",
       "<tbody>\n",
       "\t<tr><td>19       </td><td>female   </td><td>27.900   </td><td>0        </td><td>yes      </td><td>southwest</td><td>16884.924</td></tr>\n",
       "\t<tr><td>18       </td><td>male     </td><td>33.770   </td><td>1        </td><td>no       </td><td>southeast</td><td> 1725.552</td></tr>\n",
       "\t<tr><td>28       </td><td>male     </td><td>33.000   </td><td>3        </td><td>no       </td><td>southeast</td><td> 4449.462</td></tr>\n",
       "\t<tr><td>33       </td><td>male     </td><td>22.705   </td><td>0        </td><td>no       </td><td>northwest</td><td>21984.471</td></tr>\n",
       "\t<tr><td>32       </td><td>male     </td><td>28.880   </td><td>0        </td><td>no       </td><td>northwest</td><td> 3866.855</td></tr>\n",
       "\t<tr><td>31       </td><td>female   </td><td>25.740   </td><td>0        </td><td>no       </td><td>southeast</td><td> 3756.622</td></tr>\n",
       "</tbody>\n",
       "</table>\n"
      ],
      "text/latex": [
       "\\begin{tabular}{r|lllllll}\n",
       " age & sex & bmi & children & smoker & region & charges\\\\\n",
       "\\hline\n",
       "\t 19        & female    & 27.900    & 0         & yes       & southwest & 16884.924\\\\\n",
       "\t 18        & male      & 33.770    & 1         & no        & southeast &  1725.552\\\\\n",
       "\t 28        & male      & 33.000    & 3         & no        & southeast &  4449.462\\\\\n",
       "\t 33        & male      & 22.705    & 0         & no        & northwest & 21984.471\\\\\n",
       "\t 32        & male      & 28.880    & 0         & no        & northwest &  3866.855\\\\\n",
       "\t 31        & female    & 25.740    & 0         & no        & southeast &  3756.622\\\\\n",
       "\\end{tabular}\n"
      ],
      "text/markdown": [
       "\n",
       "| age | sex | bmi | children | smoker | region | charges |\n",
       "|---|---|---|---|---|---|---|\n",
       "| 19        | female    | 27.900    | 0         | yes       | southwest | 16884.924 |\n",
       "| 18        | male      | 33.770    | 1         | no        | southeast |  1725.552 |\n",
       "| 28        | male      | 33.000    | 3         | no        | southeast |  4449.462 |\n",
       "| 33        | male      | 22.705    | 0         | no        | northwest | 21984.471 |\n",
       "| 32        | male      | 28.880    | 0         | no        | northwest |  3866.855 |\n",
       "| 31        | female    | 25.740    | 0         | no        | southeast |  3756.622 |\n",
       "\n"
      ],
      "text/plain": [
       "  age sex    bmi    children smoker region    charges  \n",
       "1 19  female 27.900 0        yes    southwest 16884.924\n",
       "2 18  male   33.770 1        no     southeast  1725.552\n",
       "3 28  male   33.000 3        no     southeast  4449.462\n",
       "4 33  male   22.705 0        no     northwest 21984.471\n",
       "5 32  male   28.880 0        no     northwest  3866.855\n",
       "6 31  female 25.740 0        no     southeast  3756.622"
      ]
     },
     "metadata": {},
     "output_type": "display_data"
    }
   ],
   "source": [
    "# We use patients' data to predict what they would use as expenses in medical\n",
    "# Improting data from insurance.csv\n",
    "insurance<-read.csv('insurance.csv', stringsAsFactors = TRUE)\n",
    "head(insurance)"
   ]
  },
  {
   "cell_type": "code",
   "execution_count": 3,
   "id": "04673bf4",
   "metadata": {},
   "outputs": [
    {
     "name": "stdout",
     "output_type": "stream",
     "text": [
      "'data.frame':\t1338 obs. of  7 variables:\n",
      " $ age     : int  19 18 28 33 32 31 46 37 37 60 ...\n",
      " $ sex     : Factor w/ 2 levels \"female\",\"male\": 1 2 2 2 2 1 1 1 2 1 ...\n",
      " $ bmi     : num  27.9 33.8 33 22.7 28.9 ...\n",
      " $ children: int  0 1 3 0 0 0 1 3 2 0 ...\n",
      " $ smoker  : Factor w/ 2 levels \"no\",\"yes\": 2 1 1 1 1 1 1 1 1 1 ...\n",
      " $ region  : Factor w/ 4 levels \"northeast\",\"northwest\",..: 4 3 3 2 2 3 3 2 1 2 ...\n",
      " $ charges : num  16885 1726 4449 21984 3867 ...\n"
     ]
    }
   ],
   "source": [
    "# Checking the structure of the data\n",
    "str(insurance)"
   ]
  },
  {
   "cell_type": "code",
   "execution_count": 4,
   "id": "ad372bfc",
   "metadata": {},
   "outputs": [
    {
     "data": {
      "text/plain": [
       "   Min. 1st Qu.  Median    Mean 3rd Qu.    Max. \n",
       "   1122    4740    9382   13270   16640   63770 "
      ]
     },
     "metadata": {},
     "output_type": "display_data"
    }
   ],
   "source": [
    "# The variable charges is the dependent one\n",
    "summary(insurance$charges)"
   ]
  },
  {
   "cell_type": "code",
   "execution_count": 5,
   "id": "ddd573cb",
   "metadata": {},
   "outputs": [
    {
     "data": {
      "image/png": "[encoded data removed]",
      "text/plain": [
       "Plot with title \"Histogram of insurance$charges\""
      ]
     },
     "metadata": {},
     "output_type": "display_data"
    }
   ],
   "source": [
    "# The mean value of 'charges' is higher than median-rightly skewed\n",
    "hist(insurance$charges)"
   ]
  },
  {
   "cell_type": "code",
   "execution_count": 6,
   "id": "6915b676",
   "metadata": {},
   "outputs": [
    {
     "data": {
      "text/plain": [
       "\n",
       "northeast northwest southeast southwest \n",
       "      324       325       364       325 "
      ]
     },
     "metadata": {},
     "output_type": "display_data"
    }
   ],
   "source": [
    "# Seeing how other variables are distributed\n",
    "table(insurance$region)"
   ]
  },
  {
   "cell_type": "code",
   "execution_count": 7,
   "id": "1fbcaf5a",
   "metadata": {},
   "outputs": [
    {
     "data": {
      "text/plain": [
       "\n",
       "female   male \n",
       "   662    676 "
      ]
     },
     "metadata": {},
     "output_type": "display_data"
    }
   ],
   "source": [
    "table(insurance$sex)\n",
    "# there's an almost evenly distrubuted"
   ]
  },
  {
   "cell_type": "markdown",
   "id": "e47b787c",
   "metadata": {},
   "source": [
    "## Exploring relationships among features - correlation matrix"
   ]
  },
  {
   "cell_type": "code",
   "execution_count": 10,
   "id": "c0fab709",
   "metadata": {},
   "outputs": [
    {
     "data": {
      "text/html": [
       "<table>\n",
       "<thead><tr><th></th><th scope=col>age</th><th scope=col>bmi</th><th scope=col>children</th><th scope=col>charges</th></tr></thead>\n",
       "<tbody>\n",
       "\t<tr><th scope=row>age</th><td>1.0000000 </td><td>0.1092719 </td><td>0.04246900</td><td>0.29900819</td></tr>\n",
       "\t<tr><th scope=row>bmi</th><td>0.1092719 </td><td>1.0000000 </td><td>0.01275890</td><td>0.19834097</td></tr>\n",
       "\t<tr><th scope=row>children</th><td>0.0424690 </td><td>0.0127589 </td><td>1.00000000</td><td>0.06799823</td></tr>\n",
       "\t<tr><th scope=row>charges</th><td>0.2990082 </td><td>0.1983410 </td><td>0.06799823</td><td>1.00000000</td></tr>\n",
       "</tbody>\n",
       "</table>\n"
      ],
      "text/latex": [
       "\\begin{tabular}{r|llll}\n",
       "  & age & bmi & children & charges\\\\\n",
       "\\hline\n",
       "\tage & 1.0000000  & 0.1092719  & 0.04246900 & 0.29900819\\\\\n",
       "\tbmi & 0.1092719  & 1.0000000  & 0.01275890 & 0.19834097\\\\\n",
       "\tchildren & 0.0424690  & 0.0127589  & 1.00000000 & 0.06799823\\\\\n",
       "\tcharges & 0.2990082  & 0.1983410  & 0.06799823 & 1.00000000\\\\\n",
       "\\end{tabular}\n"
      ],
      "text/markdown": [
       "\n",
       "| <!--/--> | age | bmi | children | charges |\n",
       "|---|---|---|---|---|\n",
       "| age | 1.0000000  | 0.1092719  | 0.04246900 | 0.29900819 |\n",
       "| bmi | 0.1092719  | 1.0000000  | 0.01275890 | 0.19834097 |\n",
       "| children | 0.0424690  | 0.0127589  | 1.00000000 | 0.06799823 |\n",
       "| charges | 0.2990082  | 0.1983410  | 0.06799823 | 1.00000000 |\n",
       "\n"
      ],
      "text/plain": [
       "         age       bmi       children   charges   \n",
       "age      1.0000000 0.1092719 0.04246900 0.29900819\n",
       "bmi      0.1092719 1.0000000 0.01275890 0.19834097\n",
       "children 0.0424690 0.0127589 1.00000000 0.06799823\n",
       "charges  0.2990082 0.1983410 0.06799823 1.00000000"
      ]
     },
     "metadata": {},
     "output_type": "display_data"
    }
   ],
   "source": [
    "# We use the cor() command\n",
    "cor(insurance[c('age', 'bmi', 'children', 'charges')])\n",
    "# None of the variables are highly correlated with the variable 'charges'"
   ]
  },
  {
   "cell_type": "markdown",
   "id": "22c5b921",
   "metadata": {},
   "source": [
    "## Scatter plot - visualization"
   ]
  },
  {
   "cell_type": "code",
   "execution_count": 12,
   "id": "04c357fa",
   "metadata": {},
   "outputs": [
    {
     "data": {
      "image/png": "[encoded data removed]",
      "text/plain": [
       "plot without title"
      ]
     },
     "metadata": {},
     "output_type": "display_data"
    }
   ],
   "source": [
    "# Creating a scatter plot\n",
    "pairs(insurance[c('age','bmi','children','charges')])"
   ]
  },
  {
   "cell_type": "code",
   "execution_count": 21,
   "id": "176ecd77",
   "metadata": {},
   "outputs": [
    {
     "name": "stdout",
     "output_type": "stream",
     "text": [
      "\n",
      "  There is a binary version available but the source version is later:\n",
      "      binary source needs_compilation\n",
      "psych  2.1.3  2.2.5             FALSE\n",
      "\n"
     ]
    },
    {
     "name": "stderr",
     "output_type": "stream",
     "text": [
      "installing the source package 'psych'\n",
      "\n",
      "Warning message in install.packages(\"psych\"):\n",
      "\"installation of package 'psych' had non-zero exit status\""
     ]
    }
   ],
   "source": [
    "install.packages(\"psych\")\n",
    "# Since the previous matrix is not quite good for follow-up, we then enhace the scatter plot matrix\n",
    "# library(psych)"
   ]
  },
  {
   "cell_type": "code",
   "execution_count": 22,
   "id": "b54ade9a",
   "metadata": {},
   "outputs": [
    {
     "ename": "ERROR",
     "evalue": "Error in pairs.panels(insurance[c(\"age\", \"bmi\", \"children\", \"charges\")]): could not find function \"pairs.panels\"\n",
     "output_type": "error",
     "traceback": [
      "Error in pairs.panels(insurance[c(\"age\", \"bmi\", \"children\", \"charges\")]): could not find function \"pairs.panels\"\nTraceback:\n"
     ]
    }
   ],
   "source": [
    "pairs.panels(insurance[c('age','bmi','children','charges')])"
   ]
  },
  {
   "cell_type": "markdown",
   "id": "903e30bc",
   "metadata": {},
   "source": [
    "## Training the model on the data"
   ]
  },
  {
   "cell_type": "code",
   "execution_count": 25,
   "id": "47598965",
   "metadata": {},
   "outputs": [],
   "source": [
    "# Create the model\n",
    "model<-lm(charges~age + children + bmi + sex + smoker + region, data = insurance)"
   ]
  },
  {
   "cell_type": "code",
   "execution_count": 27,
   "id": "d3b95736",
   "metadata": {},
   "outputs": [
    {
     "data": {
      "text/plain": [
       "\n",
       "Call:\n",
       "lm(formula = charges ~ age + children + bmi + sex + smoker + \n",
       "    region, data = insurance)\n",
       "\n",
       "Residuals:\n",
       "     Min       1Q   Median       3Q      Max \n",
       "-11304.9  -2848.1   -982.1   1393.9  29992.8 \n",
       "\n",
       "Coefficients:\n",
       "                Estimate Std. Error t value Pr(>|t|)    \n",
       "(Intercept)     -11938.5      987.8 -12.086  < 2e-16 ***\n",
       "age                256.9       11.9  21.587  < 2e-16 ***\n",
       "children           475.5      137.8   3.451 0.000577 ***\n",
       "bmi                339.2       28.6  11.860  < 2e-16 ***\n",
       "sexmale           -131.3      332.9  -0.394 0.693348    \n",
       "smokeryes        23848.5      413.1  57.723  < 2e-16 ***\n",
       "regionnorthwest   -353.0      476.3  -0.741 0.458769    \n",
       "regionsoutheast  -1035.0      478.7  -2.162 0.030782 *  \n",
       "regionsouthwest   -960.0      477.9  -2.009 0.044765 *  \n",
       "---\n",
       "Signif. codes:  0 '***' 0.001 '**' 0.01 '*' 0.05 '.' 0.1 ' ' 1\n",
       "\n",
       "Residual standard error: 6062 on 1329 degrees of freedom\n",
       "Multiple R-squared:  0.7509,\tAdjusted R-squared:  0.7494 \n",
       "F-statistic: 500.8 on 8 and 1329 DF,  p-value: < 2.2e-16\n"
      ]
     },
     "metadata": {},
     "output_type": "display_data"
    }
   ],
   "source": [
    "summary(model)"
   ]
  },
  {
   "cell_type": "code",
   "execution_count": null,
   "id": "c7f08bba",
   "metadata": {},
   "outputs": [],
   "source": []
  }
 ],
 "metadata": {
  "kernelspec": {
   "display_name": "R",
   "language": "R",
   "name": "ir"
  },
  "language_info": {
   "codemirror_mode": "r",
   "file_extension": ".r",
   "mimetype": "text/x-r-source",
   "name": "R",
   "pygments_lexer": "r",
   "version": "3.6.3"
  }
 },
 "nbformat": 4,
 "nbformat_minor": 5
}
